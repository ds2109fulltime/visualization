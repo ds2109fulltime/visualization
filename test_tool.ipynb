{
 "cells": [
  {
   "cell_type": "code",
   "execution_count": 1,
   "metadata": {},
   "outputs": [],
   "source": [
    "import numpy as np\n",
    "import pandas as pd\n",
    "import seaborn as sns\n",
    "import matplotlib.pyplot as plt\n",
    "\n",
    "from tools import get_roc_curve, print_classif_metrics, print_regress_metrics\n",
    "\n",
    "# Metricas de clasificación\n",
    "from sklearn.linear_model import LogisticRegression\n",
    "from sklearn.linear_model import LinearRegression\n",
    "\n",
    "from sklearn.metrics import accuracy_score, f1_score, precision_score, recall_score,\\\n",
    "                            roc_auc_score, roc_curve, precision_recall_curve, confusion_matrix\n",
    "from sklearn.metrics import r2_score, mean_absolute_error, mean_squared_error\n",
    "\n"
   ]
  },
  {
   "cell_type": "code",
   "execution_count": 2,
   "metadata": {},
   "outputs": [
    {
     "name": "stderr",
     "output_type": "stream",
     "text": [
      "c:\\src\\theBridge\\course-env\\lib\\site-packages\\sklearn\\linear_model\\_logistic.py:818: ConvergenceWarning: lbfgs failed to converge (status=1):\n",
      "STOP: TOTAL NO. of ITERATIONS REACHED LIMIT.\n",
      "\n",
      "Increase the number of iterations (max_iter) or scale the data as shown in:\n",
      "    https://scikit-learn.org/stable/modules/preprocessing.html\n",
      "Please also refer to the documentation for alternative solver options:\n",
      "    https://scikit-learn.org/stable/modules/linear_model.html#logistic-regression\n",
      "  extra_warning_msg=_LOGISTIC_SOLVER_CONVERGENCE_MSG,\n"
     ]
    },
    {
     "data": {
      "image/png": "[encoded data removed]",
      "text/plain": [
       "<Figure size 720x360 with 1 Axes>"
      ]
     },
     "metadata": {
      "needs_background": "light"
     },
     "output_type": "display_data"
    }
   ],
   "source": [
    "titanic_df = sns.load_dataset('titanic')\n",
    "\n",
    "# Modelo rapido sin dividir en train/test ni ndada\n",
    "titanic_df2 = titanic_df.drop(columns=['deck', 'alive']).copy()\n",
    "titanic_df2 = titanic_df2.dropna()\n",
    "titanic_df2 = pd.get_dummies(titanic_df2)\n",
    "\n",
    "lr = LogisticRegression()\n",
    "X = titanic_df2.iloc[:, 1:]\n",
    "y = titanic_df2.iloc[:, 0]\n",
    "\n",
    "lr.fit(X, y)\n",
    "preds = lr.predict(X)\n",
    "\n",
    "y_pred = lr.predict_proba(X)[:, 1]\n",
    "plt.figure(figsize=(10, 5))\n",
    "get_roc_curve(y, y_pred)\n",
    "plt.show()\n"
   ]
  },
  {
   "cell_type": "code",
   "execution_count": 3,
   "metadata": {},
   "outputs": [
    {
     "name": "stdout",
     "output_type": "stream",
     "text": [
      "Accuracy score: 0.823 %\n",
      "Recall score: 0.796 %\n",
      "Precision score: 0.757 %\n",
      "F1 score: 0.776 %\n",
      "AUC: 0.818 %\n"
     ]
    }
   ],
   "source": [
    "y_pred = lr.predict(X)\n",
    "print_classif_metrics(y, y_pred)"
   ]
  },
  {
   "cell_type": "code",
   "execution_count": 3,
   "metadata": {},
   "outputs": [
    {
     "name": "stdout",
     "output_type": "stream",
     "text": [
      "R^2 score: 0.9128\n",
      "MAE score: 740.476\n",
      "MSE score: 1276866.7661\n",
      "RMSE score: 1129.9853\n",
      "MAPE score: 39.1852 %\n"
     ]
    }
   ],
   "source": [
    "diamonds_df = sns.load_dataset('diamonds')\n",
    "\n",
    "diamonds_df2 = pd.get_dummies(diamonds_df)\n",
    "\n",
    "lr = LinearRegression()\n",
    "X = diamonds_df2.drop(columns = ['price'])\n",
    "y = diamonds_df2['price']\n",
    "\n",
    "lr.fit(X, y)\n",
    "y_pred = lr.predict(X)\n",
    "\n",
    "print_regress_metrics(y, y_pred)"
   ]
  },
  {
   "cell_type": "code",
   "execution_count": null,
   "metadata": {},
   "outputs": [],
   "source": []
  }
 ],
 "metadata": {
  "interpreter": {
   "hash": "e9fe7e7741b3f19bcd135589f0a4246388c4ceff90e79f616981a3065da97231"
  },
  "kernelspec": {
   "display_name": "Python 3.7.4 64-bit ('course-env': venv)",
   "language": "python",
   "name": "python3"
  },
  "language_info": {
   "codemirror_mode": {
    "name": "ipython",
    "version": 3
   },
   "file_extension": ".py",
   "mimetype": "text/x-python",
   "name": "python",
   "nbconvert_exporter": "python",
   "pygments_lexer": "ipython3",
   "version": "3.7.4"
  },
  "orig_nbformat": 4
 },
 "nbformat": 4,
 "nbformat_minor": 2
}
