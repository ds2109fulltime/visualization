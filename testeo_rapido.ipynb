{
 "cells": [
  {
   "cell_type": "markdown",
   "metadata": {},
   "source": [
    "Diego"
   ]
  },
  {
   "cell_type": "code",
   "execution_count": 5,
   "metadata": {},
   "outputs": [],
   "source": [
    "import numpy as np\n",
    "import pandas as pd\n",
    "import seaborn as sns\n",
    "import matplotlib.pyplot as plt\n",
    "\n",
    "# from tools import get_roc_curve, print_classif_metrics, print_regress_metrics\n",
    "\n",
    "# Metricas de clasificación\n",
    "from sklearn.linear_model import LogisticRegression\n",
    "from sklearn.linear_model import LinearRegression\n",
    "\n",
    "from sklearn.metrics import accuracy_score, f1_score, precision_score, recall_score,\\\n",
    "                            roc_auc_score, roc_curve, precision_recall_curve, confusion_matrix\n",
    "from sklearn.metrics import r2_score, mean_absolute_error, mean_squared_error"
   ]
  },
  {
   "cell_type": "code",
   "execution_count": 6,
   "metadata": {},
   "outputs": [],
   "source": [
    "import numpy as np\n",
    "import matplotlib.pyplot as plt\n",
    "from sklearn.metrics import roc_curve, r2_score, mean_absolute_error, mean_squared_error, accuracy_score, f1_score, precision_score, recall_score,\\\n",
    "                            roc_auc_score, roc_curve\n",
    "\n",
    "def get_roc_curve(y, y_pred, ax=None, **plt_kwargs):\n",
    "    ''' \n",
    "    \n",
    "    \n",
    "    '''\n",
    "# def get_roc_curve(y, y_pred, ax=None):\n",
    "    if ax is None:\n",
    "        ax = plt.gca()\n",
    "    fpr, tpr, thresholds = roc_curve(y, y_pred)\n",
    "    ax.plot(fpr, tpr, **plt_kwargs)\n",
    "    # ax.plot(fpr, tpr)\n",
    "    ax.set(xlim = [0.0, 1.0],\n",
    "           ylim = [0.0, 1.0],\n",
    "           title = 'ROC curve for titanic classifier',\n",
    "           xlabel = 'False Positive Rate (1 - Specificity)',\n",
    "           ylabel = 'True Positive Rate (Sensitivity)',\n",
    "        #    grid = True\n",
    "    )\n",
    "    return(ax)\n",
    "\n",
    "\n",
    "def print_regress_metrics(y, y_pred):\n",
    "    print(\"R^2 score:\", round(r2_score(y_pred, y), 4))\n",
    "    print(\"MAE score:\", round(mean_absolute_error(y_pred, y), 4))\n",
    "    print(\"MSE score:\", round(mean_squared_error(y_pred, y), 4))\n",
    "    print(\"RMSE score:\", round(np.sqrt(mean_squared_error(y_pred, y)), 4))\n",
    "    y_array, y_pred_array = np.array(y), np.array(y_pred)\n",
    "    mape = np.mean(np.abs((y_array - y_pred_array) / y_array)) * 100\n",
    "    print(f'MAPE score: {round(mape, 4)} %')\n",
    "\n",
    "\n",
    "def print_classif_metrics(y, y_pred):\n",
    "    print(f'Accuracy score: {round(accuracy_score(y_pred, y), 3)} %')\n",
    "    print(f'Recall score: {round(recall_score(y_pred, y), 3)} %')\n",
    "    print(f'Precision score: {round(precision_score(y_pred, y), 3)} %')\n",
    "    print(f'F1 score: {round(f1_score(y_pred, y), 3)} %')\n",
    "    print(f'AUC: {round(roc_auc_score(y_pred, y), 3)} %')"
   ]
  },
  {
   "cell_type": "code",
   "execution_count": 7,
   "metadata": {},
   "outputs": [
    {
     "name": "stderr",
     "output_type": "stream",
     "text": [
      "C:\\Users\\Silvia\\AppData\\Local\\Programs\\Python\\Python37\\lib\\site-packages\\sklearn\\linear_model\\_logistic.py:818: ConvergenceWarning: lbfgs failed to converge (status=1):\n",
      "STOP: TOTAL NO. of ITERATIONS REACHED LIMIT.\n",
      "\n",
      "Increase the number of iterations (max_iter) or scale the data as shown in:\n",
      "    https://scikit-learn.org/stable/modules/preprocessing.html\n",
      "Please also refer to the documentation for alternative solver options:\n",
      "    https://scikit-learn.org/stable/modules/linear_model.html#logistic-regression\n",
      "  extra_warning_msg=_LOGISTIC_SOLVER_CONVERGENCE_MSG,\n"
     ]
    },
    {
     "data": {
      "image/png": "[encoded data removed]",
      "text/plain": [
       "<Figure size 720x360 with 1 Axes>"
      ]
     },
     "metadata": {
      "needs_background": "light"
     },
     "output_type": "display_data"
    }
   ],
   "source": [
    "titanic_df = sns.load_dataset('titanic')\n",
    "\n",
    "# Modelo rapido sin dividir en train/test ni ndada\n",
    "titanic_df2 = titanic_df.drop(columns=['deck', 'alive']).copy()\n",
    "titanic_df2 = titanic_df2.dropna()\n",
    "titanic_df2 = pd.get_dummies(titanic_df2)\n",
    "\n",
    "lr = LogisticRegression()\n",
    "X = titanic_df2.iloc[:, 1:]\n",
    "y = titanic_df2.iloc[:, 0]\n",
    "\n",
    "lr.fit(X, y)\n",
    "preds = lr.predict(X)\n",
    "\n",
    "y_pred = lr.predict_proba(X)[:, 1]\n",
    "plt.figure(figsize=(10, 5))\n",
    "get_roc_curve(y, y_pred)\n",
    "plt.show()"
   ]
  },
  {
   "cell_type": "code",
   "execution_count": 8,
   "metadata": {},
   "outputs": [
    {
     "name": "stdout",
     "output_type": "stream",
     "text": [
      "Accuracy score: 0.823 %\n",
      "Recall score: 0.796 %\n",
      "Precision score: 0.757 %\n",
      "F1 score: 0.776 %\n",
      "AUC: 0.818 %\n"
     ]
    }
   ],
   "source": [
    "y_pred = lr.predict(X)\n",
    "print_classif_metrics(y, y_pred)"
   ]
  },
  {
   "cell_type": "code",
   "execution_count": 9,
   "metadata": {},
   "outputs": [
    {
     "name": "stdout",
     "output_type": "stream",
     "text": [
      "R^2 score: 0.9128\n",
      "MAE score: 740.476\n",
      "MSE score: 1276866.7661\n",
      "RMSE score: 1129.9853\n",
      "MAPE score: 39.1852 %\n"
     ]
    }
   ],
   "source": [
    "diamonds_df = sns.load_dataset('diamonds')\n",
    "\n",
    "diamonds_df2 = pd.get_dummies(diamonds_df)\n",
    "\n",
    "lr = LinearRegression()\n",
    "X = diamonds_df2.drop(columns = ['price'])\n",
    "y = diamonds_df2['price']\n",
    "\n",
    "lr.fit(X, y)\n",
    "y_pred = lr.predict(X)\n",
    "\n",
    "print_regress_metrics(y, y_pred)"
   ]
  },
  {
   "cell_type": "markdown",
   "metadata": {},
   "source": [
    "Antonio Campaña"
   ]
  },
  {
   "cell_type": "code",
   "execution_count": 10,
   "metadata": {},
   "outputs": [],
   "source": [
    "def maps(latitude = 40.4167 , longitude = -3.70325, zoom = 6):\n",
    "    '''Esta función muestra un mapa en función de la latitud, longitud y zoom introducidos.\n",
    "    Por defecto mostrará España'''\n",
    "\n",
    "    import folium\n",
    "    from IPython.display import display\n",
    "    \n",
    "    center = [latitude, longitude]\n",
    "    my_map = folium.Map(location=center, zoom_start=zoom)\n",
    "    display(my_map)"
   ]
  },
  {
   "cell_type": "markdown",
   "metadata": {},
   "source": [
    "Palma\n"
   ]
  },
  {
   "cell_type": "code",
   "execution_count": 11,
   "metadata": {},
   "outputs": [],
   "source": [
    "import pandas as pd\n",
    "\n",
    "\n",
    "\n",
    "def sort(df, col):\n",
    "    '''This function sorts a DataFrame according to the selected column. \n",
    "    You only have to indicate the columns that you want to make up the dataframe.\n",
    "    my_dict: dictionary\n",
    "    df: Pandas DataFrame\n",
    "    col = column\n",
    "    '''\n",
    "    df = df.sort_values(by=col,ascending=False)\n",
    "    return df\n"
   ]
  },
  {
   "cell_type": "markdown",
   "metadata": {},
   "source": [
    "Marta"
   ]
  },
  {
   "cell_type": "code",
   "execution_count": null,
   "metadata": {},
   "outputs": [],
   "source": [
    "def boxplot(data, column, color, title, etiqueta_nombre_columna):\n",
    "    '''\n",
    "    This function makes a box plot for a specific column.\n",
    "    \n",
    "    data: dataframe\n",
    "    column: column to be represented.\n",
    "    color: color to be used.\n",
    "    title: graph name.\n",
    "    label_column_name: column to be graphed.\n",
    "    '''\n",
    "    import matplotlib.pyplot as plt\n",
    "    import seaborn as sns \n",
    "    plt.figure(figsize=(8,8))\n",
    "    sns.boxplot(x=data[column], color=color)\n",
    "    plt.title(title)\n",
    "    plt.xlabel(etiqueta_nombre_columna)\n",
    "    plt.show()"
   ]
  },
  {
   "cell_type": "markdown",
   "metadata": {},
   "source": [
    "Juan"
   ]
  },
  {
   "cell_type": "code",
   "execution_count": 12,
   "metadata": {},
   "outputs": [],
   "source": [
    "def pairplot_heatmap(df):\n",
    "    \n",
    "    '''\n",
    "    Display function that plots a pairplot and a heatmap at the same time showing a pearson correlation at the top.\n",
    "\n",
    "    Parameters: dataframe with numeric variables\n",
    "    '''\n",
    "\n",
    "    import matplotlib.pyplot as plt\n",
    "    import seaborn as sns\n",
    "\n",
    "    def codot(*args, **kwargs):\n",
    "        corr_r = args[0].corr(args[1], 'pearson')\n",
    "        corr_text = f\"{corr_r:2.2f}\".replace(\"0.\", \".\")\n",
    "        ax = plt.gca()\n",
    "        ax.set_axis_off()\n",
    "        marker_size = abs(corr_r) * 10000\n",
    "        ax.scatter([.5], [.5], marker_size, [corr_r], alpha=0.6, cmap=\"coolwarm\",\n",
    "                   vmin=-1, vmax=1, transform=ax.transAxes)\n",
    "        font_size = abs(corr_r) * 40 + 5\n",
    "        ax.annotate(corr_text, [.5, .5,],  xycoords=\"axes fraction\",\n",
    "                    ha='center', va='center', fontsize=font_size)\n",
    "\n",
    "    g = sns.PairGrid(df, aspect=1.4, diag_sharey=False)\n",
    "    g.map_lower(sns.regplot, lowess=True, ci=False, line_kws={'color': 'black'})\n",
    "    g.map_diag(sns.distplot, kde_kws={'color': 'black'})\n",
    "    g.map_upper(codot)\n",
    "\n",
    "    return g"
   ]
  },
  {
   "cell_type": "code",
   "execution_count": null,
   "metadata": {},
   "outputs": [],
   "source": []
  },
  {
   "cell_type": "markdown",
   "metadata": {},
   "source": [
    "David"
   ]
  },
  {
   "cell_type": "code",
   "execution_count": null,
   "metadata": {},
   "outputs": [],
   "source": [
    "def draw_sunburst(data_frame, path, color):\n",
    "    '''This function performs a sunburst, when it is called, in \n",
    "    -\"data_frame\":the dataframe is entered,\n",
    "    -\"path\": introduce with a list, the two columns or variables to be represented\n",
    "    -\"color\": enter the column or main variable, which will be the value that the graph adopts'''\n",
    "    import plotly.express as px\n",
    "    fig = px.sunburst(\n",
    "    data_frame = data_frame,\n",
    "    path = path,\n",
    "    color = color,\n",
    "    color_discrete_sequence = [\"red\",\"green\",\"blue\",\"orange\"],\n",
    "    maxdepth = -1,\n",
    "    )\n",
    "    fig.update_traces(textinfo='label+percent entry')\n",
    "    fig.update_layout(margin=dict(t=0, l=0, r=0, b=0))\n",
    "    fig.show()"
   ]
  },
  {
   "cell_type": "code",
   "execution_count": null,
   "metadata": {},
   "outputs": [],
   "source": [
    "\n",
    "def draw_circle(data, column, title):\n",
    "    ''' This function performs a pie chart with the inner circle blank. When it is to be called\n",
    "        -dataframe is entered in the \"data\" attribute,\n",
    "        -column attribute: enter the column whose two values you want to represent, as a result, will give you the count '''\n",
    "    import matplotlib.pyplot as plt\n",
    "    total = data[column].value_counts()\n",
    "    my_circle=plt.Circle( (0,0), 0.7, color='white') \n",
    "    plt.figure(figsize=(10,10))\n",
    "    plt.pie(total.values,\n",
    "            labels = total.index,\n",
    "            autopct='%1.2f%%')\n",
    "    p = plt.gcf()\n",
    "    p.gca().add_artist(my_circle)\n",
    "    plt.title(title)\n",
    "    plt.show()"
   ]
  },
  {
   "cell_type": "code",
   "execution_count": null,
   "metadata": {},
   "outputs": [],
   "source": [
    "def tres_countplot(data, column_ax0, column_ax1, column_ax2, column_hue0, column_hue1, column_hue2, title0, title1,\n",
    "                     title2, palette1, palette2, palette3):\n",
    "    '''This function performs three vertical countplot graphs with included legend, titles\n",
    "    and labels with 45 degree rotation and color palette to choose from. When the function is called, the following must be done: \n",
    "    -data: the dataframe is entered,\n",
    "    -column_ax0, column_ax1, column_ax2: you enter the columns or variables you want to represent\n",
    "    -column_hue0, column_hue1, column_hue2: you enter the value you want to represent within the coutplot graphs, \n",
    "    -title0, title1, title2 are the titles of each subplot,\n",
    "    -palette1, palette2 and palette3 are the color palettes for each subplot'''\n",
    "    import matplotlib.pyplot as plt\n",
    "    import seaborn as sns \n",
    "    fig, axes = plt.subplots(1, 3,  figsize=(20, 8))\n",
    "    a = sns.countplot(data[column_ax0], hue=data[column_hue0], ax=axes[0], palette= palette1)\n",
    "    axes[0].set_title(title0)\n",
    "    a.set_xticklabels(a.get_xticklabels(), rotation=45)\n",
    "    b = sns.countplot(data[column_ax1], hue=data[column_hue1], palette=palette2, ax=axes[1])\n",
    "    axes[1].set_title(title1)\n",
    "    b.set_xticklabels(b.get_xticklabels(), rotation=45)\n",
    "    c = sns.countplot(data[column_ax2], hue=data[column_hue2], palette=palette3, ax=axes[2])\n",
    "    axes[2].set_title(title2)\n",
    "    c.set_xticklabels(c.get_xticklabels(), rotation=45)\n",
    "    plt.show()"
   ]
  }
 ],
 "metadata": {
  "interpreter": {
   "hash": "075b29a0b0cbaa9c7a84b41610d8b6dbe2b274ccaf0a9c61c1820b677d81dee1"
  },
  "kernelspec": {
   "display_name": "Python 3.7.4 64-bit",
   "language": "python",
   "name": "python3"
  },
  "language_info": {
   "codemirror_mode": {
    "name": "ipython",
    "version": 3
   },
   "file_extension": ".py",
   "mimetype": "text/x-python",
   "name": "python",
   "nbconvert_exporter": "python",
   "pygments_lexer": "ipython3",
   "version": "3.7.4"
  },
  "orig_nbformat": 4
 },
 "nbformat": 4,
 "nbformat_minor": 2
}
